{
 "cells": [
  {
   "cell_type": "code",
   "execution_count": 1,
   "id": "ec97fdee-efdb-484c-a9db-11c6d99a0802",
   "metadata": {},
   "outputs": [],
   "source": [
    "-- functions\n",
    "addOne num = num + 1\n",
    "timesTwo num = num * 2\n",
    "squared num = num * num\n",
    "minusFive num = num - 5"
   ]
  },
  {
   "cell_type": "code",
   "execution_count": 2,
   "id": "bcbe1cbc-c5ba-4e7d-a190-a51787bd3f7d",
   "metadata": {},
   "outputs": [
    {
     "data": {
      "text/plain": [
       "11"
      ]
     },
     "metadata": {},
     "output_type": "display_data"
    }
   ],
   "source": [
    "-- intermediate values\n",
    "result1 = addOne 1\n",
    "result2 = timesTwo result1\n",
    "result3 = squared result2\n",
    "minusFive result3"
   ]
  },
  {
   "cell_type": "code",
   "execution_count": 3,
   "id": "6ecb5c0a-ce0f-4202-9f50-5637dd02cfab",
   "metadata": {},
   "outputs": [
    {
     "data": {
      "text/plain": [
       "11"
      ]
     },
     "metadata": {},
     "output_type": "display_data"
    },
    {
     "data": {
      "text/plain": [
       "251"
      ]
     },
     "metadata": {},
     "output_type": "display_data"
    }
   ],
   "source": [
    "-- function composition\n",
    "findResult num = minusFive (squared (timesTwo (addOne num)))\n",
    "findResult 1\n",
    "findResult 7"
   ]
  },
  {
   "cell_type": "code",
   "execution_count": 4,
   "id": "a10455cb-480a-4145-8850-62c9c768afdc",
   "metadata": {},
   "outputs": [
    {
     "data": {
      "text/plain": [
       "3"
      ]
     },
     "metadata": {},
     "output_type": "display_data"
    },
    {
     "data": {
      "text/plain": [
       "3"
      ]
     },
     "metadata": {},
     "output_type": "display_data"
    }
   ],
   "source": [
    "addOne (timesTwo 1)\n",
    "-- function application operator\n",
    "addOne $ timesTwo 1"
   ]
  },
  {
   "cell_type": "code",
   "execution_count": 5,
   "id": "83d07fd3-a440-4fc3-8bd6-be406e829971",
   "metadata": {},
   "outputs": [
    {
     "data": {
      "text/plain": [
       "24"
      ]
     },
     "metadata": {},
     "output_type": "display_data"
    }
   ],
   "source": [
    "-- function composition operator\n",
    "timesTwoPlusOne = timesTwo . addOne\n",
    "timesEight = timesTwo . timesTwo . timesTwo\n",
    "timesEight 3"
   ]
  },
  {
   "cell_type": "code",
   "execution_count": 6,
   "id": "e863622c-4b38-4162-af6a-944590fff57d",
   "metadata": {},
   "outputs": [
    {
     "data": {
      "text/plain": [
       "16"
      ]
     },
     "metadata": {},
     "output_type": "display_data"
    },
    {
     "data": {
      "text/plain": [
       "16"
      ]
     },
     "metadata": {},
     "output_type": "display_data"
    }
   ],
   "source": [
    "--timesTwo . twimesTwo 3\n",
    "(timesTwo . timesTwo . timesTwo) 2\n",
    "timesTwo . timesTwo . timesTwo $ 2"
   ]
  },
  {
   "cell_type": "code",
   "execution_count": 11,
   "id": "149bbfb8-2ffc-497a-bdab-9a66a8c4cfad",
   "metadata": {},
   "outputs": [
    {
     "data": {
      "text/plain": [
       "\"Hello Bob\""
      ]
     },
     "metadata": {},
     "output_type": "display_data"
    }
   ],
   "source": [
    "makeGreeting salutation person = salutation <> \" \" <> person\n",
    "greetPerson = makeGreeting \"Hello\"\n",
    "greetPerson \"Bob\""
   ]
  },
  {
   "cell_type": "code",
   "execution_count": null,
   "id": "295188b1-eb57-407b-a7d6-011ca78a008d",
   "metadata": {},
   "outputs": [
    {
     "data": {
      "text/html": [
       "<style>/* Styles used for the Hoogle display in the pager */\n",
       ".hoogle-doc {\n",
       "display: block;\n",
       "padding-bottom: 1.3em;\n",
       "padding-left: 0.4em;\n",
       "}\n",
       ".hoogle-code {\n",
       "display: block;\n",
       "font-family: monospace;\n",
       "white-space: pre;\n",
       "}\n",
       ".hoogle-text {\n",
       "display: block;\n",
       "}\n",
       ".hoogle-name {\n",
       "color: green;\n",
       "font-weight: bold;\n",
       "}\n",
       ".hoogle-head {\n",
       "font-weight: bold;\n",
       "}\n",
       ".hoogle-sub {\n",
       "display: block;\n",
       "margin-left: 0.4em;\n",
       "}\n",
       ".hoogle-package {\n",
       "font-weight: bold;\n",
       "font-style: italic;\n",
       "}\n",
       ".hoogle-module {\n",
       "font-weight: bold;\n",
       "}\n",
       ".hoogle-class {\n",
       "font-weight: bold;\n",
       "}\n",
       ".get-type {\n",
       "color: green;\n",
       "font-weight: bold;\n",
       "font-family: monospace;\n",
       "display: block;\n",
       "white-space: pre-wrap;\n",
       "}\n",
       ".show-type {\n",
       "color: green;\n",
       "font-weight: bold;\n",
       "font-family: monospace;\n",
       "margin-left: 1em;\n",
       "}\n",
       ".mono {\n",
       "font-family: monospace;\n",
       "display: block;\n",
       "}\n",
       ".err-msg {\n",
       "color: red;\n",
       "font-style: italic;\n",
       "font-family: monospace;\n",
       "white-space: pre;\n",
       "display: block;\n",
       "}\n",
       "#unshowable {\n",
       "color: red;\n",
       "font-weight: bold;\n",
       "}\n",
       ".err-msg.in.collapse {\n",
       "padding-top: 0.7em;\n",
       "}\n",
       ".highlight-code {\n",
       "white-space: pre;\n",
       "font-family: monospace;\n",
       "}\n",
       ".suggestion-warning { \n",
       "font-weight: bold;\n",
       "color: rgb(200, 130, 0);\n",
       "}\n",
       ".suggestion-error { \n",
       "font-weight: bold;\n",
       "color: red;\n",
       "}\n",
       ".suggestion-name {\n",
       "font-weight: bold;\n",
       "}\n",
       "</style><div class=\"suggestion-name\" style=\"clear:both;\">Avoid lambda using `infix`</div><div class=\"suggestion-row\" style=\"float: left;\"><div class=\"suggestion-warning\">Found:</div><div class=\"highlight-code\" id=\"haskell\">(\\ salutation -> salutation <> \" \")</div></div><div class=\"suggestion-row\" style=\"float: left;\"><div class=\"suggestion-warning\">Why Not:</div><div class=\"highlight-code\" id=\"haskell\">(<> \" \")</div></div>"
      ],
      "text/plain": [
       "Line 4: Avoid lambda using `infix`\n",
       "Found:\n",
       "(\\ salutation -> salutation <> \" \")\n",
       "Why not:\n",
       "(<> \" \")"
      ]
     },
     "metadata": {},
     "output_type": "display_data"
    },
    {
     "data": {
      "text/plain": [
       "\"Hello Bob\""
      ]
     },
     "metadata": {},
     "output_type": "display_data"
    },
    {
     "data": {
      "text/plain": [
       "\"Hello Bob\""
      ]
     },
     "metadata": {},
     "output_type": "display_data"
    },
    {
     "data": {
      "text/plain": [
       "\"Hello Bob\""
      ]
     },
     "metadata": {},
     "output_type": "display_data"
    }
   ],
   "source": [
    "-- n-reduction\n",
    "makeGreeting' salutation = (<>) (salutation <> \" \")\n",
    "makeGreeting \"Hello\" \"Bob\"\n",
    "\n",
    "makeGreeting' = (<>) . (\\salutation -> salutation <> \" \")\n",
    "makeGreeting \"Hello\" \"Bob\"\n",
    "\n",
    "-- fully point free definition\n",
    "makeGreeting' = (<>) . (<> \" \")\n",
    "makeGreeting' \"Hello\" \"Bob\""
   ]
  },
  {
   "cell_type": "code",
   "execution_count": null,
   "id": "9797d87c-570f-424b-81ad-e94e5120d436",
   "metadata": {},
   "outputs": [],
   "source": [
    " "
   ]
  }
 ],
 "metadata": {
  "kernelspec": {
   "display_name": "Haskell",
   "language": "haskell",
   "name": "haskell"
  },
  "language_info": {
   "codemirror_mode": "ihaskell",
   "file_extension": ".hs",
   "mimetype": "text/x-haskell",
   "name": "haskell",
   "pygments_lexer": "Haskell",
   "version": "9.2.7"
  }
 },
 "nbformat": 4,
 "nbformat_minor": 5
}
