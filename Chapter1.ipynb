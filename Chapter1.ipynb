{
 "cells": [
  {
   "cell_type": "code",
   "execution_count": 15,
   "id": "ec97fdee-efdb-484c-a9db-11c6d99a0802",
   "metadata": {},
   "outputs": [],
   "source": [
    "-- functions\n",
    "addOne num = num + 1\n",
    "timesTwo num = num * 2\n",
    "squared num = num * num\n",
    "minusFive num = num - 5"
   ]
  },
  {
   "cell_type": "code",
   "execution_count": 16,
   "id": "bcbe1cbc-c5ba-4e7d-a190-a51787bd3f7d",
   "metadata": {},
   "outputs": [
    {
     "data": {
      "text/plain": [
       "11"
      ]
     },
     "metadata": {},
     "output_type": "display_data"
    }
   ],
   "source": [
    "-- intermediate values\n",
    "result1 = addOne 1\n",
    "result2 = timesTwo result1\n",
    "result3 = squared result2\n",
    "minusFive result3"
   ]
  },
  {
   "cell_type": "code",
   "execution_count": 17,
   "id": "6ecb5c0a-ce0f-4202-9f50-5637dd02cfab",
   "metadata": {},
   "outputs": [
    {
     "data": {
      "text/plain": [
       "11"
      ]
     },
     "metadata": {},
     "output_type": "display_data"
    },
    {
     "data": {
      "text/plain": [
       "251"
      ]
     },
     "metadata": {},
     "output_type": "display_data"
    }
   ],
   "source": [
    "-- function composition\n",
    "findResult num = minusFive (squared (timesTwo (addOne num)))\n",
    "findResult 1\n",
    "findResult 7"
   ]
  },
  {
   "cell_type": "code",
   "execution_count": 18,
   "id": "a10455cb-480a-4145-8850-62c9c768afdc",
   "metadata": {},
   "outputs": [
    {
     "data": {
      "text/plain": [
       "3"
      ]
     },
     "metadata": {},
     "output_type": "display_data"
    },
    {
     "data": {
      "text/plain": [
       "3"
      ]
     },
     "metadata": {},
     "output_type": "display_data"
    }
   ],
   "source": [
    "addOne (timesTwo 1)\n",
    "-- function application operator\n",
    "addOne $ timesTwo 1"
   ]
  },
  {
   "cell_type": "code",
   "execution_count": 19,
   "id": "83d07fd3-a440-4fc3-8bd6-be406e829971",
   "metadata": {},
   "outputs": [
    {
     "data": {
      "text/plain": [
       "24"
      ]
     },
     "metadata": {},
     "output_type": "display_data"
    }
   ],
   "source": [
    "-- function composition operator\n",
    "timesTwoPlusOne = timesTwo . addOne\n",
    "timesEight = timesTwo . timesTwo . timesTwo\n",
    "timesEight 3"
   ]
  },
  {
   "cell_type": "code",
   "execution_count": 20,
   "id": "e863622c-4b38-4162-af6a-944590fff57d",
   "metadata": {},
   "outputs": [
    {
     "data": {
      "text/plain": [
       "16"
      ]
     },
     "metadata": {},
     "output_type": "display_data"
    },
    {
     "data": {
      "text/plain": [
       "16"
      ]
     },
     "metadata": {},
     "output_type": "display_data"
    }
   ],
   "source": [
    "--timesTwo . twimesTwo 3\n",
    "(timesTwo . timesTwo . timesTwo) 2\n",
    "timesTwo . timesTwo . timesTwo $ 2"
   ]
  },
  {
   "cell_type": "code",
   "execution_count": 21,
   "id": "149bbfb8-2ffc-497a-bdab-9a66a8c4cfad",
   "metadata": {},
   "outputs": [
    {
     "data": {
      "text/plain": [
       "\"Hello Bob\""
      ]
     },
     "metadata": {},
     "output_type": "display_data"
    }
   ],
   "source": [
    "makeGreeting salutation person = salutation <> \" \" <> person\n",
    "greetPerson = makeGreeting \"Hello\"\n",
    "greetPerson \"Bob\""
   ]
  },
  {
   "cell_type": "code",
   "execution_count": 22,
   "id": "295188b1-eb57-407b-a7d6-011ca78a008d",
   "metadata": {},
   "outputs": [
    {
     "data": {
      "text/html": [
       "<style>/* Styles used for the Hoogle display in the pager */\n",
       ".hoogle-doc {\n",
       "display: block;\n",
       "padding-bottom: 1.3em;\n",
       "padding-left: 0.4em;\n",
       "}\n",
       ".hoogle-code {\n",
       "display: block;\n",
       "font-family: monospace;\n",
       "white-space: pre;\n",
       "}\n",
       ".hoogle-text {\n",
       "display: block;\n",
       "}\n",
       ".hoogle-name {\n",
       "color: green;\n",
       "font-weight: bold;\n",
       "}\n",
       ".hoogle-head {\n",
       "font-weight: bold;\n",
       "}\n",
       ".hoogle-sub {\n",
       "display: block;\n",
       "margin-left: 0.4em;\n",
       "}\n",
       ".hoogle-package {\n",
       "font-weight: bold;\n",
       "font-style: italic;\n",
       "}\n",
       ".hoogle-module {\n",
       "font-weight: bold;\n",
       "}\n",
       ".hoogle-class {\n",
       "font-weight: bold;\n",
       "}\n",
       ".get-type {\n",
       "color: green;\n",
       "font-weight: bold;\n",
       "font-family: monospace;\n",
       "display: block;\n",
       "white-space: pre-wrap;\n",
       "}\n",
       ".show-type {\n",
       "color: green;\n",
       "font-weight: bold;\n",
       "font-family: monospace;\n",
       "margin-left: 1em;\n",
       "}\n",
       ".mono {\n",
       "font-family: monospace;\n",
       "display: block;\n",
       "}\n",
       ".err-msg {\n",
       "color: red;\n",
       "font-style: italic;\n",
       "font-family: monospace;\n",
       "white-space: pre;\n",
       "display: block;\n",
       "}\n",
       "#unshowable {\n",
       "color: red;\n",
       "font-weight: bold;\n",
       "}\n",
       ".err-msg.in.collapse {\n",
       "padding-top: 0.7em;\n",
       "}\n",
       ".highlight-code {\n",
       "white-space: pre;\n",
       "font-family: monospace;\n",
       "}\n",
       ".suggestion-warning { \n",
       "font-weight: bold;\n",
       "color: rgb(200, 130, 0);\n",
       "}\n",
       ".suggestion-error { \n",
       "font-weight: bold;\n",
       "color: red;\n",
       "}\n",
       ".suggestion-name {\n",
       "font-weight: bold;\n",
       "}\n",
       "</style><div class=\"suggestion-name\" style=\"clear:both;\">Avoid lambda using `infix`</div><div class=\"suggestion-row\" style=\"float: left;\"><div class=\"suggestion-warning\">Found:</div><div class=\"highlight-code\" id=\"haskell\">(\\ salutation -> salutation <> \" \")</div></div><div class=\"suggestion-row\" style=\"float: left;\"><div class=\"suggestion-warning\">Why Not:</div><div class=\"highlight-code\" id=\"haskell\">(<> \" \")</div></div>"
      ],
      "text/plain": [
       "Line 5: Avoid lambda using `infix`\n",
       "Found:\n",
       "(\\ salutation -> salutation <> \" \")\n",
       "Why not:\n",
       "(<> \" \")"
      ]
     },
     "metadata": {},
     "output_type": "display_data"
    },
    {
     "data": {
      "text/plain": [
       "\"Hello Bob\""
      ]
     },
     "metadata": {},
     "output_type": "display_data"
    },
    {
     "data": {
      "text/plain": [
       "\"Hello Bob\""
      ]
     },
     "metadata": {},
     "output_type": "display_data"
    },
    {
     "data": {
      "text/plain": [
       "\"Hello Bob\""
      ]
     },
     "metadata": {},
     "output_type": "display_data"
    }
   ],
   "source": [
    "-- n-reduction\n",
    "makeGreeting' salutation = (<>) (salutation <> \" \")\n",
    "makeGreeting \"Hello\" \"Bob\"\n",
    "\n",
    "makeGreeting' = (<>) . (\\salutation -> salutation <> \" \")\n",
    "makeGreeting \"Hello\" \"Bob\"\n",
    "\n",
    "-- fully point free definition\n",
    "makeGreeting' = (<>) . (<> \" \")\n",
    "makeGreeting' \"Hello\" \"Bob\""
   ]
  },
  {
   "cell_type": "code",
   "execution_count": 23,
   "id": "9797d87c-570f-424b-81ad-e94e5120d436",
   "metadata": {},
   "outputs": [
    {
     "data": {
      "text/plain": [
       "\"the first number is 1\""
      ]
     },
     "metadata": {},
     "output_type": "display_data"
    },
    {
     "data": {
      "text/plain": [
       "\"the sum of 1 and 2 is 3\""
      ]
     },
     "metadata": {},
     "output_type": "display_data"
    },
    {
     "data": {
      "text/plain": [
       "\"3\""
      ]
     },
     "metadata": {},
     "output_type": "display_data"
    }
   ],
   "source": [
    " -- precedence, operators, and fixity\n",
    " \"the first number is \" <> show 1\n",
    "\n",
    " \"the sum of \" <> show 1 <> \" and \" <> show 2 <> \" is \" <> show (1 + 2)\n",
    "\n",
    " show $ 1 + 2\n",
    "\n",
    "add a b = a + b\n",
    "-- left associative\n",
    "-- ((((((add add) 1) 2) add) 3) 4)\n",
    "-- right associative\n",
    "-- (add ((add 1 2) (add 3 4)))"
   ]
  },
  {
   "cell_type": "code",
   "execution_count": 24,
   "id": "8b4e9c56",
   "metadata": {},
   "outputs": [
    {
     "data": {
      "text/plain": [
       "2"
      ]
     },
     "metadata": {},
     "output_type": "display_data"
    },
    {
     "data": {
      "text/plain": [
       "13"
      ]
     },
     "metadata": {},
     "output_type": "display_data"
    },
    {
     "data": {
      "text/plain": [
       "9"
      ]
     },
     "metadata": {},
     "output_type": "display_data"
    },
    {
     "data": {
      "text/plain": [
       "1"
      ]
     },
     "metadata": {},
     "output_type": "display_data"
    }
   ],
   "source": [
    "-- custom operators\n",
    "(+++) a b = a + b -- prefix form\n",
    "a +++ b = a + b -- infix form\n",
    "\n",
    "1 +++ 1\n",
    "(+++) 1 12\n",
    "\n",
    "increment = (+++ 1)\n",
    "increment 8\n",
    "\n",
    "anotherIncrementer = (1 +++)\n",
    "anotherIncrementer 0\n",
    "\n"
   ]
  },
  {
   "cell_type": "code",
   "execution_count": 25,
   "id": "0b1bbf24",
   "metadata": {},
   "outputs": [
    {
     "data": {
      "text/plain": [
       "9"
      ]
     },
     "metadata": {},
     "output_type": "display_data"
    }
   ],
   "source": [
    "1 +++ 2 * 3 -- acting as (1 +++ 2) * 3"
   ]
  },
  {
   "cell_type": "code",
   "execution_count": 26,
   "id": "42b33dba",
   "metadata": {},
   "outputs": [
    {
     "data": {},
     "metadata": {},
     "output_type": "display_data"
    },
    {
     "name": "stdout",
     "output_type": "stream",
     "text": [
      "type Num :: * -> Constraint\n",
      "class Num a where\n",
      "  (+) :: a -> a -> a\n",
      "  ...\n",
      "  \t-- Defined in ‘GHC.Num’\n",
      "infixl 6 +"
     ]
    }
   ],
   "source": [
    ":info (+)"
   ]
  },
  {
   "cell_type": "code",
   "execution_count": 27,
   "id": "4acc2fcf",
   "metadata": {},
   "outputs": [
    {
     "data": {
      "text/plain": [
       "7"
      ]
     },
     "metadata": {},
     "output_type": "display_data"
    }
   ],
   "source": [
    "infixl 6 +++\n",
    "a +++ b = a + b\n",
    "\n",
    "1 +++ 2 * 3"
   ]
  },
  {
   "cell_type": "code",
   "execution_count": 28,
   "id": "806776d7",
   "metadata": {},
   "outputs": [
    {
     "data": {},
     "metadata": {},
     "output_type": "display_data"
    },
    {
     "name": "stdout",
     "output_type": "stream",
     "text": [
      "type Eq :: * -> Constraint\n",
      "class Eq a where\n",
      "  (==) :: a -> a -> Bool\n",
      "  ...\n",
      "  \t-- Defined in ‘GHC.Classes’\n",
      "infix 4 =="
     ]
    }
   ],
   "source": [
    ":info (==)\n",
    "--True == True == False"
   ]
  },
  {
   "cell_type": "code",
   "execution_count": 29,
   "metadata": {},
   "outputs": [
    {
     "data": {
      "text/plain": [
       "Hello Terry\n",
       "Blah blah Terry\n",
       "Cya Terry"
      ]
     },
     "metadata": {},
     "output_type": "display_data"
    }
   ],
   "source": [
    "-- local variables using let bindings\n",
    "makeGreeting salutation person =\n",
    "  let messageWithTrailingSpace = salutation <> \" \"\n",
    "  in messageWithTrailingSpace <> person\n",
    "\n",
    "extendedGreeting person =\n",
    "    let hello = makeGreeting \"Hello\" person\n",
    "        goodDay = makeGreeting \"Blah blah\" person\n",
    "        goodBye = makeGreeting \"Cya\" person\n",
    "    in hello <> \"\\n\" <> goodDay <> \"\\n\" <> goodBye\n",
    "\n",
    "putStr $ extendedGreeting \"Terry\""
   ]
  },
  {
   "cell_type": "code",
   "execution_count": 30,
   "id": "935705b8",
   "metadata": {},
   "outputs": [
    {
     "data": {
      "text/plain": [
       "Hello Alice\n",
       "Goodbye Alice"
      ]
     },
     "metadata": {},
     "output_type": "display_data"
    }
   ],
   "source": [
    "extendedGreeting person =\n",
    "  let joinWithNewlines a b = a <> \"\\n\" <> b\n",
    "      helloAndGoodbye hello goodbye =\n",
    "        let hello' = makeGreeting hello person\n",
    "            goodbye' = makeGreeting goodbye person\n",
    "        in joinWithNewlines hello' goodbye'\n",
    "  in helloAndGoodbye \"Hello\" \"Goodbye\"\n",
    "\n",
    "putStr $ extendedGreeting \"Alice\"\n",
    "    "
   ]
  },
  {
   "cell_type": "code",
   "execution_count": 31,
   "id": "8fb9b2ca",
   "metadata": {},
   "outputs": [
    {
     "data": {
      "text/plain": [
       "Hello John we met at London on a Tuesday"
      ]
     },
     "metadata": {},
     "output_type": "display_data"
    }
   ],
   "source": [
    "letWhereGreeting name place =\n",
    "    let\n",
    "        salutation = \"Hello \" <> name\n",
    "        meetingInfo = location \"Tuesday\"\n",
    "    in salutation <> \" \" <> meetingInfo\n",
    "    where\n",
    "        location day = \"we met at \" <> place <> \" on a \" <> day\n",
    "\n",
    "putStr $ letWhereGreeting \"John\" \"London\""
   ]
  },
  {
   "cell_type": "code",
   "execution_count": 32,
   "id": "bb2f5bff",
   "metadata": {},
   "outputs": [
    {
     "data": {
      "text/plain": [
       "\"that's a positive number!\""
      ]
     },
     "metadata": {},
     "output_type": "display_data"
    },
    {
     "data": {
      "text/plain": [
       "\"that's a small number!\""
      ]
     },
     "metadata": {},
     "output_type": "display_data"
    }
   ],
   "source": [
    "-- not a great example...\n",
    "guardSize num\n",
    "    | num > 0 =\n",
    "        let size = \"positive\"\n",
    "        in exclaim size\n",
    "    | num < 3 = exclaim \"small\"\n",
    "    | num < 100 = exclaim \"medium\"\n",
    "    | otherwise = exclaim \"large\"\n",
    "    where\n",
    "        exclaim msg = \"that's a \" <> msg <> \" number!\"\n",
    "\n",
    "guardSize 1\n",
    "guardSize (-1000)"
   ]
  },
  {
   "cell_type": "code",
   "execution_count": 33,
   "id": "feb222ac",
   "metadata": {},
   "outputs": [
    {
     "data": {
      "text/plain": [
       "\"1 2 fizz \""
      ]
     },
     "metadata": {},
     "output_type": "display_data"
    }
   ],
   "source": [
    "-- Been FizzBuzzed my whole career\n",
    "\n",
    "fizzBuzzFor n\n",
    "    | 0 == n `rem` 15 = \"fizzbuzz\"\n",
    "    | 0 == n `rem` 5 = \"buzz\"\n",
    "    | 0 == n `rem` 3 = \"fizz\"\n",
    "    | otherwise = show n\n",
    "\n",
    "naiveFizzBuzz fizzBuzzCount curNum fizzBuzzString =\n",
    "    if curNum > fizzBuzzCount\n",
    "    then fizzBuzzString\n",
    "    else\n",
    "        let nextFizzBuzzString = fizzBuzzString <> fizzBuzzFor curNum <> \" \"\n",
    "            nextNumber = curNum + 1\n",
    "    in naiveFizzBuzz fizzBuzzCount nextNumber nextFizzBuzzString\n",
    "\n",
    "naiveFizzBuzz 3 1 \"\"      "
   ]
  },
  {
   "cell_type": "code",
   "execution_count": 34,
   "id": "c3bc90e9",
   "metadata": {},
   "outputs": [
    {
     "data": {
      "text/plain": [
       "1"
      ]
     },
     "metadata": {},
     "output_type": "display_data"
    },
    {
     "data": {
      "text/plain": [
       "6"
      ]
     },
     "metadata": {},
     "output_type": "display_data"
    },
    {
     "data": {
      "text/plain": [
       "3350850684932979117652665123754814942022584063591740702576779884286208799035732771005626138126763314259280802118502282445926550135522251856727692533193070412811083330325659322041700029792166250734253390513754466045711240338462701034020262992581378423147276636643647155396305352541105541439434840109915068285430675068591638581980604162940383356586739198268782104924614076605793562865241982176207428620969776803149467431386807972438247689158656000000000000000000000000000000000000000000000000000000000000000"
      ]
     },
     "metadata": {},
     "output_type": "display_data"
    }
   ],
   "source": [
    "-- exercises\n",
    "factorial n =\n",
    "    if n == 0\n",
    "    then 1\n",
    "    else n * factorial (n - 1)\n",
    "\n",
    "factorial 1\n",
    "factorial 3\n",
    "factorial 255"
   ]
  },
  {
   "cell_type": "code",
   "execution_count": 35,
   "id": "75a37141",
   "metadata": {},
   "outputs": [
    {
     "data": {
      "text/plain": [
       "0"
      ]
     },
     "metadata": {},
     "output_type": "display_data"
    },
    {
     "data": {
      "text/plain": [
       "1"
      ]
     },
     "metadata": {},
     "output_type": "display_data"
    },
    {
     "data": {
      "text/plain": [
       "5"
      ]
     },
     "metadata": {},
     "output_type": "display_data"
    }
   ],
   "source": [
    "fibb n =\n",
    "    if n < 2\n",
    "    then n\n",
    "    else fibb (n - 1) + fibb (n - 2)\n",
    "\n",
    "fibb 0\n",
    "fibb 1\n",
    "fibb 5"
   ]
  },
  {
   "cell_type": "code",
   "execution_count": 36,
   "id": "5ba2c10c",
   "metadata": {},
   "outputs": [
    {
     "data": {
      "text/html": [
       "<style>/* Styles used for the Hoogle display in the pager */\n",
       ".hoogle-doc {\n",
       "display: block;\n",
       "padding-bottom: 1.3em;\n",
       "padding-left: 0.4em;\n",
       "}\n",
       ".hoogle-code {\n",
       "display: block;\n",
       "font-family: monospace;\n",
       "white-space: pre;\n",
       "}\n",
       ".hoogle-text {\n",
       "display: block;\n",
       "}\n",
       ".hoogle-name {\n",
       "color: green;\n",
       "font-weight: bold;\n",
       "}\n",
       ".hoogle-head {\n",
       "font-weight: bold;\n",
       "}\n",
       ".hoogle-sub {\n",
       "display: block;\n",
       "margin-left: 0.4em;\n",
       "}\n",
       ".hoogle-package {\n",
       "font-weight: bold;\n",
       "font-style: italic;\n",
       "}\n",
       ".hoogle-module {\n",
       "font-weight: bold;\n",
       "}\n",
       ".hoogle-class {\n",
       "font-weight: bold;\n",
       "}\n",
       ".get-type {\n",
       "color: green;\n",
       "font-weight: bold;\n",
       "font-family: monospace;\n",
       "display: block;\n",
       "white-space: pre-wrap;\n",
       "}\n",
       ".show-type {\n",
       "color: green;\n",
       "font-weight: bold;\n",
       "font-family: monospace;\n",
       "margin-left: 1em;\n",
       "}\n",
       ".mono {\n",
       "font-family: monospace;\n",
       "display: block;\n",
       "}\n",
       ".err-msg {\n",
       "color: red;\n",
       "font-style: italic;\n",
       "font-family: monospace;\n",
       "white-space: pre;\n",
       "display: block;\n",
       "}\n",
       "#unshowable {\n",
       "color: red;\n",
       "font-weight: bold;\n",
       "}\n",
       ".err-msg.in.collapse {\n",
       "padding-top: 0.7em;\n",
       "}\n",
       ".highlight-code {\n",
       "white-space: pre;\n",
       "font-family: monospace;\n",
       "}\n",
       ".suggestion-warning { \n",
       "font-weight: bold;\n",
       "color: rgb(200, 130, 0);\n",
       "}\n",
       ".suggestion-error { \n",
       "font-weight: bold;\n",
       "color: red;\n",
       "}\n",
       ".suggestion-name {\n",
       "font-weight: bold;\n",
       "}\n",
       "</style><div class=\"suggestion-name\" style=\"clear:both;\">Redundant lambda</div><div class=\"suggestion-row\" style=\"float: left;\"><div class=\"suggestion-warning\">Found:</div><div class=\"highlight-code\" id=\"haskell\">curry' f = \\ x y -> f (x, y)</div></div><div class=\"suggestion-row\" style=\"float: left;\"><div class=\"suggestion-warning\">Why Not:</div><div class=\"highlight-code\" id=\"haskell\">curry' f x y = f (x, y)</div></div><div class=\"suggestion-name\" style=\"clear:both;\">Use curry</div><div class=\"suggestion-row\" style=\"float: left;\"><div class=\"suggestion-warning\">Found:</div><div class=\"highlight-code\" id=\"haskell\">\\ x y -> f (x, y)</div></div><div class=\"suggestion-row\" style=\"float: left;\"><div class=\"suggestion-warning\">Why Not:</div><div class=\"highlight-code\" id=\"haskell\">curry f</div></div>"
      ],
      "text/plain": [
       "Line 1: Redundant lambda\n",
       "Found:\n",
       "curry' f = \\ x y -> f (x, y)\n",
       "Why not:\n",
       "curry' f x y = f (x, y)Line 1: Use curry\n",
       "Found:\n",
       "\\ x y -> f (x, y)\n",
       "Why not:\n",
       "curry f"
      ]
     },
     "metadata": {},
     "output_type": "display_data"
    },
    {
     "data": {
      "text/plain": [
       "3"
      ]
     },
     "metadata": {},
     "output_type": "display_data"
    },
    {
     "data": {
      "text/plain": [
       "2"
      ]
     },
     "metadata": {},
     "output_type": "display_data"
    },
    {
     "data": {
      "text/plain": [
       "3"
      ]
     },
     "metadata": {},
     "output_type": "display_data"
    },
    {
     "data": {
      "text/plain": [
       "3"
      ]
     },
     "metadata": {},
     "output_type": "display_data"
    },
    {
     "data": {
      "text/plain": [
       "4"
      ]
     },
     "metadata": {},
     "output_type": "display_data"
    }
   ],
   "source": [
    "curry' f = \\x y -> f (x, y) \n",
    "\n",
    "uncurriedAddition nums =\n",
    "    let\n",
    "        a = fst nums\n",
    "        b = snd nums\n",
    "    in a + b\n",
    "\n",
    "uncurriedAddition (1, 2)\n",
    "\n",
    "addition = curry' uncurriedAddition\n",
    "addOne = addition 1\n",
    "addTwo = addition 2\n",
    "\n",
    "addOne 1\n",
    "addOne 2\n",
    "\n",
    "addTwo 1\n",
    "addTwo 2"
   ]
  }
 ],
 "metadata": {
  "kernelspec": {
   "display_name": "Haskell",
   "language": "haskell",
   "name": "haskell"
  },
  "language_info": {
   "codemirror_mode": "ihaskell",
   "file_extension": ".hs",
   "mimetype": "text/x-haskell",
   "name": "haskell",
   "pygments_lexer": "Haskell",
   "version": "9.2.7"
  }
 },
 "nbformat": 4,
 "nbformat_minor": 5
}
